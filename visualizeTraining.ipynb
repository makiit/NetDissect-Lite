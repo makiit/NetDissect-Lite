{
 "cells": [
  {
   "cell_type": "code",
   "execution_count": 1,
   "id": "eb2e79ae",
   "metadata": {},
   "outputs": [],
   "source": [
    "import os\n",
    "from torch.autograd import Variable as V\n",
    "from PIL import Image\n",
    "# from scipy.misc import imresize\n",
    "import numpy as np\n",
    "import torch\n",
    "import settings\n",
    "import time\n",
    "import util.upsample as upsample\n",
    "import util.vecquantile as vecquantile\n",
    "import multiprocessing.pool as pool\n",
    "from loader.data_loader import load_csv\n",
    "from loader.data_loader import SegmentationData, SegmentationPrefetcher"
   ]
  },
  {
   "cell_type": "code",
   "execution_count": null,
   "id": "5a88dd96",
   "metadata": {},
   "outputs": [],
   "source": [
    "data = SegmentationData(settings.DATA_DIRECTORY, categories=settings.CATAGORIES)\n",
    "print()"
   ]
  }
 ],
 "metadata": {
  "kernelspec": {
   "display_name": "Python 3 (clean)",
   "language": "python",
   "name": "python3_clean"
  },
  "language_info": {
   "codemirror_mode": {
    "name": "ipython",
    "version": 3
   },
   "file_extension": ".py",
   "mimetype": "text/x-python",
   "name": "python",
   "nbconvert_exporter": "python",
   "pygments_lexer": "ipython3",
   "version": "3.9.5"
  }
 },
 "nbformat": 4,
 "nbformat_minor": 5
}
